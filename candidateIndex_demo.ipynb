{
 "cells": [
  {
   "cell_type": "code",
   "execution_count": 2,
   "metadata": {},
   "outputs": [],
   "source": [
    "import numpy as np\n",
    "import pandas as pd"
   ]
  },
  {
   "cell_type": "code",
   "execution_count": 6,
   "metadata": {},
   "outputs": [
    {
     "data": {
      "text/plain": [
       "array([1., 0., 0., 0., 0., 0., 0., 0., 0., 0.])"
      ]
     },
     "execution_count": 6,
     "metadata": {},
     "output_type": "execute_result"
    }
   ],
   "source": [
    "a = np.zeros(10)\n",
    "a[0] = 1\n",
    "a"
   ]
  },
  {
   "cell_type": "code",
   "execution_count": 11,
   "metadata": {},
   "outputs": [
    {
     "data": {
      "text/plain": [
       "False"
      ]
     },
     "execution_count": 11,
     "metadata": {},
     "output_type": "execute_result"
    }
   ],
   "source": [
    "a = np.zeros(10)\n",
    "a[1] = 2\n",
    "done = 0 not in a\n",
    "done"
   ]
  },
  {
   "cell_type": "code",
   "execution_count": 12,
   "metadata": {},
   "outputs": [
    {
     "data": {
      "text/plain": [
       "array([0., 2., 0., 0., 0., 0., 0., 0., 0., 0.])"
      ]
     },
     "execution_count": 12,
     "metadata": {},
     "output_type": "execute_result"
    }
   ],
   "source": [
    "a"
   ]
  },
  {
   "cell_type": "code",
   "execution_count": 15,
   "metadata": {},
   "outputs": [
    {
     "data": {
      "text/plain": [
       "False"
      ]
     },
     "execution_count": 15,
     "metadata": {},
     "output_type": "execute_result"
    }
   ],
   "source": [
    "True == 2"
   ]
  },
  {
   "cell_type": "code",
   "execution_count": 32,
   "metadata": {},
   "outputs": [
    {
     "name": "stdout",
     "output_type": "stream",
     "text": [
      "[1, 33, 45, 67, 87, 99, 111, 222, 333, 444]\n",
      "[3 0 0 9 7 3 5 2 8 5]\n",
      "validValue: [0 9 3 2 5]\n"
     ]
    },
    {
     "data": {
      "text/plain": [
       "67"
      ]
     },
     "execution_count": 32,
     "metadata": {},
     "output_type": "execute_result"
    }
   ],
   "source": [
    "\n",
    "candidateAction = [1,33,45,67,87,99,111,222,333,444]\n",
    "print(candidateAction)\n",
    "validIndex = [1,3,5,7,9]\n",
    "q = np.random.randint(10,size=10)\n",
    "print(q)\n",
    "validValue = q[validIndex]\n",
    "print('validValue: {}'.format(validValue))\n",
    "actionIndex = validIndex[np.argmax(validValue)]\n",
    "candidateAction[actionIndex]"
   ]
  },
  {
   "cell_type": "code",
   "execution_count": 39,
   "metadata": {},
   "outputs": [],
   "source": [
    "candidateAction = [7, 69, 177, 208, 242, 273, 291, 302, 427, 429, 495, 539, 545, 550, 578, 609, 640, 642, 671, 673, 681, 702, 742, 757, 824, 825, 844, 848, 850, 875, 879, 881, 909, 927, 940, 958, 984, 999, 1005, 1009, 1029, 1043, 1053, 1081, 1115, 1135, 1158, 1172, 1203, 1309, 1313, 1315, 1340, 1346, 1350, 1365, 1396, 1428, 1459, 1494, 1508, 1510, 1518, 1525, 1539, 1541, 1549, 1666, 1696, 1704, 1729, 1731, 1760, 1762, 1774, 1805, 1831]\n",
    "candidateTable = [[7], [], [7], [], [], [22], [22], [25], [25], [12, 23], [], [], [], [24, 26], [], [30], [], [12, 18, 23], [20], [20], [20, 22], [20, 22, 30], [20], [29], [13], [], [18, 19], [7, 11, 13], [7, 11, 13], [10, 28], [10, 28], [23], [7, 13, 17], [6, 20, 30], [27], [30], [19], [11, 25], [25], [], [], [], [7, 11, 13], [7, 13, 17], [1], [1], [2], [2], [6, 20, 22, 30], [6, 20, 22, 30], [], [], [], [23], [22, 30], [24, 26], [24, 26], [7], [7], [2]]"
   ]
  },
  {
   "cell_type": "code",
   "execution_count": 41,
   "metadata": {},
   "outputs": [
    {
     "name": "stdout",
     "output_type": "stream",
     "text": [
      "[1 0 0 1 0 1 1 1 0 1 0 1 1 1 1 0 0 1 0 1 1 0 0 1 0 1 0 1 1 1 1 0 1 0 0 1 0\n",
      " 1 0 1 0 0 0 0 1 1 0 1 0 1 1 1 0 0 1 0 1 0 1 1]\n"
     ]
    },
    {
     "data": {
      "text/plain": [
       "array([ 0,  3,  5,  6,  7,  9, 11, 12, 13, 14, 17, 19, 20, 23, 25, 27, 28,\n",
       "       29, 30, 32, 35, 37, 39, 44, 45, 47, 49, 50, 51, 54, 56, 58, 59],\n",
       "      dtype=int64)"
      ]
     },
     "execution_count": 41,
     "metadata": {},
     "output_type": "execute_result"
    }
   ],
   "source": [
    "passWindow = np.random.randint(2,size=60)\n",
    "print(passWindow)\n",
    "invalidIndex = np.where(passWindow == 1)[0]\n",
    "invalidIndex"
   ]
  },
  {
   "cell_type": "code",
   "execution_count": 55,
   "metadata": {},
   "outputs": [
    {
     "name": "stdout",
     "output_type": "stream",
     "text": [
      "[7, 177, 208, 242, 291, 302, 427, 429, 539, 545, 550, 609, 640, 642, 742, 844, 848, 850, 875, 879, 881, 909, 927, 940, 958, 999, 1005, 1009, 1115, 1158, 1172, 1365, 1396, 1459, 1525, 1539, 1541, 1549, 1696, 1704, 1760, 1762, 1805, 1831]\n"
     ]
    },
    {
     "data": {
      "text/plain": [
       "(None, 44)"
      ]
     },
     "execution_count": 55,
     "metadata": {},
     "output_type": "execute_result"
    }
   ],
   "source": [
    "invalidAction = []\n",
    "M = 30 + 1\n",
    "for passIndex in invalidIndex:\n",
    "    for driverId in candidateTable[passIndex]:\n",
    "        action = passIndex*M + driverId\n",
    "        invalidAction.append(action)\n",
    "invalidAction = list(set(invalidAction))\n",
    "invalidAction.sort()\n",
    "print(invalidAction), len(invalidAction)"
   ]
  },
  {
   "cell_type": "code",
   "execution_count": 52,
   "metadata": {},
   "outputs": [
    {
     "name": "stdout",
     "output_type": "stream",
     "text": [
      "[1, 5, 10, 14, 18, 19, 20, 21, 23, 24, 25, 36, 40, 41, 42, 43, 45, 48, 49, 50, 51, 52, 53, 54, 57, 59, 60, 61, 62, 67, 70, 71, 74]\n"
     ]
    }
   ],
   "source": [
    "candidateIndex = []\n",
    "for i, action in enumerate(candidateAction):\n",
    "    if action in invalidAction:\n",
    "        continue\n",
    "    candidateIndex.append(i) \n",
    "print(candidateIndex)"
   ]
  },
  {
   "cell_type": "code",
   "execution_count": 56,
   "metadata": {},
   "outputs": [
    {
     "data": {
      "text/plain": [
       "(array([  69,  273,  495,  578,  671,  673,  681,  702,  757,  824,  825,\n",
       "         984, 1029, 1043, 1053, 1081, 1135, 1203, 1309, 1313, 1315, 1340,\n",
       "        1346, 1350, 1428, 1494, 1508, 1510, 1518, 1666, 1729, 1731, 1774]),\n",
       " 33)"
      ]
     },
     "execution_count": 56,
     "metadata": {},
     "output_type": "execute_result"
    }
   ],
   "source": [
    "arr = np.array(candidateAction)\n",
    "arr[candidateIndex], len(arr[candidateIndex])"
   ]
  },
  {
   "cell_type": "code",
   "execution_count": 6,
   "metadata": {},
   "outputs": [],
   "source": [
    "num = 2\n",
    "driver_df = pd.read_table('driver_requests_50_{}.txt'.format(num), sep=' ', header=None, names=['pickup_longitude', 'pickup_latitude', 'dropoff_longitude', 'dropoff_latitude','seatNum','detourRatio'])\n",
    "\n",
    "passenger_df = pd.read_table('passenger_requests_100_{}.txt'.format(num), sep=' ', header=None, names=['pickup_longitude', 'pickup_latitude', 'dropoff_longitude', 'dropoff_latitude','seatNum','detourRatio','waitTime'])\n"
   ]
  },
  {
   "cell_type": "code",
   "execution_count": 12,
   "metadata": {},
   "outputs": [],
   "source": [
    "num = 2\n",
    "for num in range(2,7):\n",
    "    driver_df = pd.read_table('driver_requests_50_{}.txt'.format(num), sep=' ', header=None, names=['pickup_longitude', 'pickup_latitude', 'dropoff_longitude', 'dropoff_latitude','seatNum','detourRatio'])\n",
    "    driver_df['seatNum'] = driver_df['seatNum'].astype('int')\n",
    "    driver_df = driver_df.round(5)\n",
    "    df1 = driver_df.iloc[:,:5]\n",
    "    df1.to_csv('./data/driver_requests_50_{}.txt'.format(num), header=None, index=False, sep=' ')"
   ]
  },
  {
   "cell_type": "code",
   "execution_count": 13,
   "metadata": {},
   "outputs": [],
   "source": [
    "num = 2\n",
    "for num in range(2,7):\n",
    "    passenger_df = pd.read_table('passenger_requests_100_{}.txt'.format(num), sep=' ', header=None, names=['pickup_longitude', 'pickup_latitude', 'dropoff_longitude', 'dropoff_latitude','seatNum','detourRatio','waitTime'])\n",
    "    passenger_df = passenger_df.round(5)\n",
    "    df1 = passenger_df.iloc[:,:5]\n",
    "    df1.to_csv('./data/passenger_requests_100_{}.txt'.format(num), header=None, index=False, sep=' ')"
   ]
  },
  {
   "cell_type": "code",
   "execution_count": null,
   "metadata": {},
   "outputs": [],
   "source": []
  }
 ],
 "metadata": {
  "interpreter": {
   "hash": "91bd72d428b545083482defe845e577746d8ff0eff26dd24d71906b3fc9ac853"
  },
  "kernelspec": {
   "display_name": "Python 3.7.9 64-bit ('tensorflow': conda)",
   "name": "python3"
  },
  "language_info": {
   "codemirror_mode": {
    "name": "ipython",
    "version": 3
   },
   "file_extension": ".py",
   "mimetype": "text/x-python",
   "name": "python",
   "nbconvert_exporter": "python",
   "pygments_lexer": "ipython3",
   "version": "3.7.9"
  },
  "orig_nbformat": 4
 },
 "nbformat": 4,
 "nbformat_minor": 2
}
