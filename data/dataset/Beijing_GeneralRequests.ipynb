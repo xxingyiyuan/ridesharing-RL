{
 "cells": [
  {
   "cell_type": "code",
   "execution_count": 1,
   "metadata": {},
   "outputs": [],
   "source": [
    "import numpy as np\n",
    "import pandas as pd\n",
    "import math\n",
    "import random"
   ]
  },
  {
   "cell_type": "code",
   "execution_count": 2,
   "metadata": {},
   "outputs": [
    {
     "data": {
      "text/plain": [
       "(116.441282637, 39.96901)"
      ]
     },
     "execution_count": 2,
     "metadata": {},
     "output_type": "execute_result"
    }
   ],
   "source": [
    "minX,minY= 116.3300873,39.8663525 #beijing\n",
    "#经纬度范围\n",
    "ROW_NUM = 11\n",
    "COL_NUM = 11\n",
    "# 区域的宽度和高度\n",
    "REGION_WIDTH = 0.010108667\n",
    "REGION_HEIGHT = 0.0093325\n",
    "maxX,maxY = minX + COL_NUM*REGION_WIDTH, minY + ROW_NUM*REGION_HEIGHT \n",
    "maxX,maxY"
   ]
  },
  {
   "cell_type": "code",
   "execution_count": 3,
   "metadata": {},
   "outputs": [],
   "source": [
    "#返回请求所在区域id（0~120）\n",
    "def getRegionNum(location):\n",
    "    longitude,latitude = location\n",
    "    weight = longitude - minX\n",
    "    height = latitude - minY\n",
    "    col_index = math.floor(weight / REGION_WIDTH)\n",
    "    row_index = math.floor(height/ REGION_HEIGHT)\n",
    "    region_num = row_index*COL_NUM + col_index\n",
    "    return region_num\n",
    "\n",
    "#增加两列 pickup_region, dropoff_region,分别表示起点所在区域和终点所在区域\n",
    "def add_region(df):\n",
    "    pickup_df = df[['pickup_longitude','pickup_latitude']]\n",
    "    pickup_region = pickup_df.apply(getRegionNum,axis=1)\n",
    "    dropoff_df = df[['dropoff_longitude','dropoff_latitude']]\n",
    "    dropoff_region = dropoff_df.apply(getRegionNum,axis=1)\n",
    "    df['pickup_region'] = pickup_region\n",
    "    df['dropoff_region'] = dropoff_region"
   ]
  },
  {
   "cell_type": "code",
   "execution_count": 4,
   "metadata": {},
   "outputs": [],
   "source": [
    "# 生成请求终点所在的区域\n",
    "def getDestRegionId(origin_rid):\n",
    "    probability_regions = probability_df.loc[origin_rid]#不要用probability_df[origin_rid]\n",
    "    regions = probability_regions[probability_regions>0].cumsum()\n",
    "    id_regions = regions.index\n",
    "    alpha = np.random.random()\n",
    "    for (i,v) in enumerate(regions.values):\n",
    "        if(v>=alpha): \n",
    "            dest_rid = id_regions[i]\n",
    "            break\n",
    "    return dest_rid\n",
    "\n",
    "# 获取区域范围\n",
    "def getRegionRange(region_id):\n",
    "    row_idx = math.floor(region_id / COL_NUM)\n",
    "    col_idx = region_id % COL_NUM\n",
    "    min_long = minX + col_idx*REGION_WIDTH\n",
    "    max_long = minX + (col_idx+1)*REGION_WIDTH\n",
    "    min_lat = minY + row_idx*REGION_HEIGHT \n",
    "    max_lat = minY + (row_idx+1)*REGION_HEIGHT\n",
    "    return min_long,min_lat,max_long,max_lat\n",
    "\n",
    "# 生成坐标\n",
    "def generateCoordinate(region_id):\n",
    "    min_long,min_lat,max_long,max_lat = getRegionRange(region_id)\n",
    "    #生成经纬度\n",
    "    longitude = np.random.uniform(min_long,max_long)\n",
    "    latitude = np.random.uniform(min_lat,max_lat)\n",
    "    return longitude,latitude\n",
    "\n",
    "#生成请求\n",
    "def generateRequests(total_num):\n",
    "    \n",
    "    arr = np.zeros((total_num,4))\n",
    "    org_num = np.zeros(total_num)#每个请求的起点区域\n",
    "    n = 0\n",
    "    \n",
    "    while n < total_num:\n",
    "        #选择一个区域生成请求\n",
    "        origin_rid = np.random.randint(0,121)\n",
    "        if pickup_counts[origin_rid] == 0:\n",
    "            continue\n",
    "        #在该区域内生成的请求数量（满足泊松分布）\n",
    "        request_num = np.random.poisson(np.ceil(pickup_counts[origin_rid]/30))\n",
    "        if request_num == 0:\n",
    "            continue\n",
    "        if n + request_num > total_num:\n",
    "            request_num = total_num - n\n",
    "        org_num[n:n+request_num] = np.array([origin_rid]*request_num)\n",
    "        n += request_num\n",
    "    \n",
    "    #生成坐标\n",
    "    for i in range(total_num):\n",
    "        #生成起点坐标\n",
    "        pickup_longitude,pickup_latitude = generateCoordinate(org_num[i])\n",
    "        #生成终点坐标\n",
    "        dest_rid = getDestRegionId(org_num[i])\n",
    "        dropoff_longitude, dropoff_latitude = generateCoordinate(dest_rid)\n",
    "        arr[i] = [pickup_longitude,pickup_latitude,dropoff_longitude, dropoff_latitude]\n",
    "       \n",
    "       \n",
    "    df = pd.DataFrame(arr,columns=['pickup_longitude','pickup_latitude','dropoff_longitude','dropoff_latitude'])\n",
    "    df = df.sample(frac=1).reset_index(drop=True)\n",
    "    df = df.round(5)\n",
    "    return df\n",
    "\n",
    "#转移矩阵 transform_matrix[2,0] = 1表示从区域2到区域0的taxi数为1\n",
    "def computeProbability(df):\n",
    "    add_region(df)\n",
    "    transform_matrix = np.zeros((ROW_NUM*COL_NUM,ROW_NUM*COL_NUM))\n",
    "    res = df.groupby(by='pickup_region')['dropoff_region'].value_counts()\n",
    "    keys = res.index\n",
    "    values = res.values\n",
    "    for (idx,key) in enumerate(keys):\n",
    "        x,y = key\n",
    "        transform_matrix[x][y] = values[idx]\n",
    "    transform_df = pd.DataFrame(transform_matrix)\n",
    "    #统计每个区域的请求起点数量\n",
    "    pickup_counts = transform_df.apply(np.sum,axis=1)\n",
    "    #转移概率矩阵\n",
    "    probability_df = transform_df.div(pickup_counts, axis=0)\n",
    "    return pickup_counts,probability_df "
   ]
  },
  {
   "cell_type": "code",
   "execution_count": 5,
   "metadata": {},
   "outputs": [
    {
     "data": {
      "text/html": [
       "<div>\n",
       "<style scoped>\n",
       "    .dataframe tbody tr th:only-of-type {\n",
       "        vertical-align: middle;\n",
       "    }\n",
       "\n",
       "    .dataframe tbody tr th {\n",
       "        vertical-align: top;\n",
       "    }\n",
       "\n",
       "    .dataframe thead th {\n",
       "        text-align: right;\n",
       "    }\n",
       "</style>\n",
       "<table border=\"1\" class=\"dataframe\">\n",
       "  <thead>\n",
       "    <tr style=\"text-align: right;\">\n",
       "      <th></th>\n",
       "      <th>pickup_longitude</th>\n",
       "      <th>pickup_latitude</th>\n",
       "      <th>dropoff_longitude</th>\n",
       "      <th>dropoff_latitude</th>\n",
       "    </tr>\n",
       "  </thead>\n",
       "  <tbody>\n",
       "    <tr>\n",
       "      <th>count</th>\n",
       "      <td>4296.000000</td>\n",
       "      <td>4296.000000</td>\n",
       "      <td>4296.000000</td>\n",
       "      <td>4296.000000</td>\n",
       "    </tr>\n",
       "    <tr>\n",
       "      <th>mean</th>\n",
       "      <td>116.437491</td>\n",
       "      <td>39.941851</td>\n",
       "      <td>116.430179</td>\n",
       "      <td>39.941603</td>\n",
       "    </tr>\n",
       "    <tr>\n",
       "      <th>std</th>\n",
       "      <td>0.154616</td>\n",
       "      <td>0.116101</td>\n",
       "      <td>0.143399</td>\n",
       "      <td>0.103542</td>\n",
       "    </tr>\n",
       "    <tr>\n",
       "      <th>min</th>\n",
       "      <td>116.010790</td>\n",
       "      <td>39.260750</td>\n",
       "      <td>116.007230</td>\n",
       "      <td>39.153950</td>\n",
       "    </tr>\n",
       "    <tr>\n",
       "      <th>25%</th>\n",
       "      <td>116.343815</td>\n",
       "      <td>39.882465</td>\n",
       "      <td>116.345765</td>\n",
       "      <td>39.888878</td>\n",
       "    </tr>\n",
       "    <tr>\n",
       "      <th>50%</th>\n",
       "      <td>116.423340</td>\n",
       "      <td>39.930810</td>\n",
       "      <td>116.418670</td>\n",
       "      <td>39.930370</td>\n",
       "    </tr>\n",
       "    <tr>\n",
       "      <th>75%</th>\n",
       "      <td>116.502840</td>\n",
       "      <td>39.999818</td>\n",
       "      <td>116.482642</td>\n",
       "      <td>39.987085</td>\n",
       "    </tr>\n",
       "    <tr>\n",
       "      <th>max</th>\n",
       "      <td>117.439220</td>\n",
       "      <td>40.972520</td>\n",
       "      <td>117.993170</td>\n",
       "      <td>40.984950</td>\n",
       "    </tr>\n",
       "  </tbody>\n",
       "</table>\n",
       "</div>"
      ],
      "text/plain": [
       "       pickup_longitude  pickup_latitude  dropoff_longitude  dropoff_latitude\n",
       "count       4296.000000      4296.000000        4296.000000       4296.000000\n",
       "mean         116.437491        39.941851         116.430179         39.941603\n",
       "std            0.154616         0.116101           0.143399          0.103542\n",
       "min          116.010790        39.260750         116.007230         39.153950\n",
       "25%          116.343815        39.882465         116.345765         39.888878\n",
       "50%          116.423340        39.930810         116.418670         39.930370\n",
       "75%          116.502840        39.999818         116.482642         39.987085\n",
       "max          117.439220        40.972520         117.993170         40.984950"
      ]
     },
     "execution_count": 5,
     "metadata": {},
     "output_type": "execute_result"
    }
   ],
   "source": [
    "# 加载数据\n",
    "df = pd.read_table('./taxi2.txt',sep=',',header=None,names=['pickup_longitude','pickup_latitude','dropoff_longitude','dropoff_latitude'])\n",
    "df.describe()"
   ]
  },
  {
   "cell_type": "code",
   "execution_count": 6,
   "metadata": {},
   "outputs": [
    {
     "data": {
      "text/plain": [
       "(116.4412863, 39.9575515)"
      ]
     },
     "execution_count": 6,
     "metadata": {},
     "output_type": "execute_result"
    }
   ],
   "source": [
    "minX,minY= 116.3300873,39.8463525 #beijing\n",
    "#经纬度范围\n",
    "ROW_NUM = 11\n",
    "COL_NUM = 11\n",
    "# 区域的宽度和高度\n",
    "REGION_WIDTH = 0.010109\n",
    "REGION_HEIGHT = 0.010109\n",
    "maxX,maxY = minX + COL_NUM*REGION_WIDTH, minY + ROW_NUM*REGION_HEIGHT \n",
    "maxX,maxY"
   ]
  },
  {
   "cell_type": "code",
   "execution_count": 7,
   "metadata": {},
   "outputs": [
    {
     "data": {
      "text/plain": [
       "(600, 4)"
      ]
     },
     "execution_count": 7,
     "metadata": {},
     "output_type": "execute_result"
    }
   ],
   "source": [
    "df = pd.read_table('./taxi2.txt',sep=',',header=None,names=['pickup_longitude','pickup_latitude','dropoff_longitude','dropoff_latitude'])\n",
    "# 获取经纬度范围内的数据\n",
    "df = df[(df['pickup_longitude']>minX) & (df['pickup_longitude']<maxX)]\n",
    "df = df[(df['dropoff_longitude']>minX) & (df['dropoff_longitude']<maxX)]\n",
    "df = df[(df['pickup_latitude']>minY) & (df['pickup_latitude']<maxY)]\n",
    "df = df[(df['dropoff_latitude']>minY) & (df['dropoff_latitude']<maxY)]\n",
    "df.shape"
   ]
  },
  {
   "cell_type": "code",
   "execution_count": 8,
   "metadata": {},
   "outputs": [
    {
     "data": {
      "text/plain": [
       "(339, 6)"
      ]
     },
     "execution_count": 8,
     "metadata": {},
     "output_type": "execute_result"
    }
   ],
   "source": [
    "dist = np.power(df['pickup_longitude'] - df['dropoff_longitude'],2) + np.power(df['pickup_latitude'] - df['dropoff_latitude'],2)\n",
    "df1 = df[dist>0.0007].copy()\n",
    "pickup_counts,probability_df = computeProbability(df1)\n",
    "df1.shape"
   ]
  },
  {
   "cell_type": "code",
   "execution_count": 9,
   "metadata": {},
   "outputs": [
    {
     "data": {
      "text/plain": [
       "64     16\n",
       "63      9\n",
       "118     8\n",
       "59      8\n",
       "54      8\n",
       "       ..\n",
       "28      1\n",
       "90      1\n",
       "91      1\n",
       "66      1\n",
       "1       1\n",
       "Name: pickup_region, Length: 110, dtype: int64"
      ]
     },
     "execution_count": 9,
     "metadata": {},
     "output_type": "execute_result"
    }
   ],
   "source": [
    "df1['pickup_region'].value_counts()"
   ]
  },
  {
   "cell_type": "code",
   "execution_count": 10,
   "metadata": {},
   "outputs": [],
   "source": [
    "\n",
    "for i in range(1,11):\n",
    "#     st0 = np.random.get_state()\n",
    "#     pickup_counts,probability_df = computeProbability(df1)\n",
    "    p_df = generateRequests(600)\n",
    "#     np.random.set_state(st0)\n",
    "#     pickup_counts,probability_df = computeProbability(df2)\n",
    "    d_df = generateRequests(300)\n",
    "    p_df.to_csv('F:/yuan/Carpooling/Beijing/passengers_requests/requests_600_{}.txt'.format(i),sep=' ',header=None,index=False)\n",
    "    d_df.to_csv('F:/yuan/Carpooling/Beijing/drivers_requests/requests_300_{}.txt'.format(i),sep=' ',header=None,index=False)"
   ]
  },
  {
   "cell_type": "code",
   "execution_count": 12,
   "metadata": {},
   "outputs": [],
   "source": [
    "p_df = generateRequests(60)\n",
    "d_df = generateRequests(30)\n",
    "p_df.to_csv('requests_60_{}.txt'.format(1),sep=' ',header=None,index=False)\n",
    "d_df.to_csv('requests_30_{}.txt'.format(1),sep=' ',header=None,index=False)"
   ]
  },
  {
   "cell_type": "code",
   "execution_count": null,
   "metadata": {},
   "outputs": [],
   "source": []
  }
 ],
 "metadata": {
  "interpreter": {
   "hash": "91bd72d428b545083482defe845e577746d8ff0eff26dd24d71906b3fc9ac853"
  },
  "kernelspec": {
   "display_name": "Python 3.7.9 64-bit ('tensorflow': conda)",
   "name": "python3"
  },
  "language_info": {
   "codemirror_mode": {
    "name": "ipython",
    "version": 3
   },
   "file_extension": ".py",
   "mimetype": "text/x-python",
   "name": "python",
   "nbconvert_exporter": "python",
   "pygments_lexer": "ipython3",
   "version": "3.7.9"
  }
 },
 "nbformat": 4,
 "nbformat_minor": 4
}
