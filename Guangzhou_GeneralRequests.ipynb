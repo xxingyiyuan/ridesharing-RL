{
 "cells": [
  {
   "cell_type": "code",
   "execution_count": 1,
   "metadata": {},
   "outputs": [],
   "source": [
    "import numpy as np\n",
    "import pandas as pd\n",
    "import math"
   ]
  },
  {
   "cell_type": "code",
   "execution_count": 2,
   "metadata": {},
   "outputs": [],
   "source": [
    "# minX,minY,maxX,maxY = 113.175050,22.800400,113.617000,23.676500\n",
    "# #经纬度范围\n",
    "# ROW_NUM = 11\n",
    "# COL_NUM = 11\n",
    "# # 区域的宽度和高度\n",
    "# REGION_WIDTH = (maxX-minX)/COL_NUM\n",
    "# REGION_HEIGHT = (maxY-minY)/ROW_NUM\n",
    "# REGION_WIDTH,REGION_HEIGHT"
   ]
  },
  {
   "cell_type": "code",
   "execution_count": 3,
   "metadata": {},
   "outputs": [],
   "source": [
    "#返回请求所在区域id（0~120）\n",
    "def getRegionNum(location):\n",
    "    longitude,latitude = location\n",
    "    weight = longitude - minX\n",
    "    height = latitude - minY\n",
    "    col_index = math.floor(weight / REGION_WIDTH)\n",
    "    row_index = math.floor(height/ REGION_HEIGHT)\n",
    "    region_num = row_index*COL_NUM + col_index\n",
    "    return region_num\n",
    "\n",
    "#增加两列 pickup_region, dropoff_region,分别表示起点所在区域和终点所在区域\n",
    "def add_region(df):\n",
    "    pickup_df = df[['pickup_longitude','pickup_latitude']]\n",
    "    pickup_region = pickup_df.apply(getRegionNum,axis=1)\n",
    "    dropoff_df = df[['dropoff_longitude','dropoff_latitude']]\n",
    "    dropoff_region = dropoff_df.apply(getRegionNum,axis=1)\n",
    "    df['pickup_region'] = pickup_region\n",
    "    df['dropoff_region'] = dropoff_region\n",
    "\n",
    "# 生成请求终点所在的区域\n",
    "def getDestRegionId(origin_rid):\n",
    "    probability_regions = probability_df.loc[origin_rid]#不要用probability_df[origin_rid]\n",
    "    regions = probability_regions[probability_regions>0].cumsum()\n",
    "    id_regions = regions.index\n",
    "    alpha = np.random.random()\n",
    "    for (i,v) in enumerate(regions.values):\n",
    "        if(v>=alpha): \n",
    "            dest_rid = id_regions[i]\n",
    "            break\n",
    "    return dest_rid\n",
    "\n",
    "# 获取区域范围\n",
    "def getRegionRange(region_id):\n",
    "    row_idx = math.floor(region_id / COL_NUM)\n",
    "    col_idx = region_id % COL_NUM\n",
    "    min_long = minX + col_idx*REGION_WIDTH\n",
    "    max_long = minX + (col_idx+1)*REGION_WIDTH\n",
    "    min_lat = minY + row_idx*REGION_HEIGHT \n",
    "    max_lat = minY + (row_idx+1)*REGION_HEIGHT\n",
    "    return min_long,min_lat,max_long,max_lat\n",
    "\n",
    "# 生成坐标\n",
    "def generateCoordinate(region_id):\n",
    "    min_long,min_lat,max_long,max_lat = getRegionRange(region_id)\n",
    "    #生成经纬度\n",
    "    longitude = np.random.uniform(min_long,max_long)\n",
    "    latitude = np.random.uniform(min_lat,max_lat)\n",
    "    return longitude,latitude\n",
    "\n",
    "#生成请求\n",
    "def generateRequests(total_num):\n",
    "    \n",
    "    arr = np.zeros((total_num,4))\n",
    "    org_num = np.zeros(total_num)#每个请求的起点区域\n",
    "    n = 0\n",
    "    \n",
    "    while n < total_num:\n",
    "        #选择一个区域生成请求\n",
    "        origin_rid = np.random.randint(0,121)\n",
    "        if pickup_counts[origin_rid] == 0:\n",
    "            continue\n",
    "        #在该区域内生成的请求数量（满足泊松分布）\n",
    "        request_num = np.random.poisson(np.ceil(pickup_counts[origin_rid]/30))\n",
    "        if request_num == 0:\n",
    "            continue\n",
    "        if n + request_num > total_num:\n",
    "            request_num = total_num - n\n",
    "        org_num[n:n+request_num] = np.array([origin_rid]*request_num)\n",
    "        n += request_num\n",
    "    \n",
    "    #生成坐标\n",
    "    for i in range(total_num):\n",
    "        #生成起点坐标\n",
    "        pickup_longitude,pickup_latitude = generateCoordinate(org_num[i])\n",
    "        #生成终点坐标\n",
    "        dest_rid = getDestRegionId(org_num[i])\n",
    "        dropoff_longitude, dropoff_latitude = generateCoordinate(dest_rid)\n",
    "        arr[i] = [pickup_longitude,pickup_latitude,dropoff_longitude, dropoff_latitude]\n",
    "       \n",
    "       \n",
    "    df = pd.DataFrame(arr,columns=['pickup_longitude','pickup_latitude','dropoff_longitude','dropoff_latitude'])\n",
    "    df = df.sample(frac=1).reset_index(drop=True)\n",
    "    df = df.round(5)\n",
    "    return df\n",
    "\n",
    "#转移矩阵 transform_matrix[2,0] = 1表示从区域2到区域0的taxi数为1\n",
    "def computeProbability(df):\n",
    "    add_region(df)\n",
    "    transform_matrix = np.zeros((ROW_NUM*COL_NUM,ROW_NUM*COL_NUM))\n",
    "    res = df.groupby(by='pickup_region')['dropoff_region'].value_counts()\n",
    "    keys = res.index\n",
    "    values = res.values\n",
    "    for (idx,key) in enumerate(keys):\n",
    "        x,y = key\n",
    "        transform_matrix[x][y] = values[idx]\n",
    "    transform_df = pd.DataFrame(transform_matrix)\n",
    "    #统计每个区域的请求起点数量\n",
    "    pickup_counts = transform_df.apply(np.sum,axis=1)\n",
    "    #转移概率矩阵\n",
    "    probability_df = transform_df.div(pickup_counts, axis=0)\n",
    "    return pickup_counts,probability_df \n"
   ]
  },
  {
   "cell_type": "code",
   "execution_count": 4,
   "metadata": {},
   "outputs": [
    {
     "data": {
      "text/html": [
       "<div>\n",
       "<style scoped>\n",
       "    .dataframe tbody tr th:only-of-type {\n",
       "        vertical-align: middle;\n",
       "    }\n",
       "\n",
       "    .dataframe tbody tr th {\n",
       "        vertical-align: top;\n",
       "    }\n",
       "\n",
       "    .dataframe thead th {\n",
       "        text-align: right;\n",
       "    }\n",
       "</style>\n",
       "<table border=\"1\" class=\"dataframe\">\n",
       "  <thead>\n",
       "    <tr style=\"text-align: right;\">\n",
       "      <th></th>\n",
       "      <th>pickup_longitude</th>\n",
       "      <th>pickup_latitude</th>\n",
       "      <th>dropoff_longitude</th>\n",
       "      <th>dropoff_latitude</th>\n",
       "    </tr>\n",
       "  </thead>\n",
       "  <tbody>\n",
       "    <tr>\n",
       "      <th>count</th>\n",
       "      <td>962.000000</td>\n",
       "      <td>962.000000</td>\n",
       "      <td>962.000000</td>\n",
       "      <td>962.000000</td>\n",
       "    </tr>\n",
       "    <tr>\n",
       "      <th>mean</th>\n",
       "      <td>113.301773</td>\n",
       "      <td>23.154476</td>\n",
       "      <td>113.301209</td>\n",
       "      <td>23.152286</td>\n",
       "    </tr>\n",
       "    <tr>\n",
       "      <th>std</th>\n",
       "      <td>0.053901</td>\n",
       "      <td>0.075335</td>\n",
       "      <td>0.054882</td>\n",
       "      <td>0.074524</td>\n",
       "    </tr>\n",
       "    <tr>\n",
       "      <th>min</th>\n",
       "      <td>113.175050</td>\n",
       "      <td>22.800500</td>\n",
       "      <td>113.175050</td>\n",
       "      <td>22.800400</td>\n",
       "    </tr>\n",
       "    <tr>\n",
       "      <th>25%</th>\n",
       "      <td>113.262425</td>\n",
       "      <td>23.117940</td>\n",
       "      <td>113.262043</td>\n",
       "      <td>23.117700</td>\n",
       "    </tr>\n",
       "    <tr>\n",
       "      <th>50%</th>\n",
       "      <td>113.294910</td>\n",
       "      <td>23.139965</td>\n",
       "      <td>113.292910</td>\n",
       "      <td>23.138600</td>\n",
       "    </tr>\n",
       "    <tr>\n",
       "      <th>75%</th>\n",
       "      <td>113.330750</td>\n",
       "      <td>23.195407</td>\n",
       "      <td>113.327978</td>\n",
       "      <td>23.193683</td>\n",
       "    </tr>\n",
       "    <tr>\n",
       "      <th>max</th>\n",
       "      <td>113.556740</td>\n",
       "      <td>23.676400</td>\n",
       "      <td>113.616000</td>\n",
       "      <td>23.671710</td>\n",
       "    </tr>\n",
       "  </tbody>\n",
       "</table>\n",
       "</div>"
      ],
      "text/plain": [
       "       pickup_longitude  pickup_latitude  dropoff_longitude  dropoff_latitude\n",
       "count        962.000000       962.000000         962.000000        962.000000\n",
       "mean         113.301773        23.154476         113.301209         23.152286\n",
       "std            0.053901         0.075335           0.054882          0.074524\n",
       "min          113.175050        22.800500         113.175050         22.800400\n",
       "25%          113.262425        23.117940         113.262043         23.117700\n",
       "50%          113.294910        23.139965         113.292910         23.138600\n",
       "75%          113.330750        23.195407         113.327978         23.193683\n",
       "max          113.556740        23.676400         113.616000         23.671710"
      ]
     },
     "execution_count": 4,
     "metadata": {},
     "output_type": "execute_result"
    }
   ],
   "source": [
    "df = pd.read_table('./Guangzhou.txt',sep=',', header=None, names=['pickup_longitude','pickup_latitude','dropoff_longitude','dropoff_latitude'])\n",
    "df.describe()"
   ]
  },
  {
   "cell_type": "code",
   "execution_count": 5,
   "metadata": {},
   "outputs": [
    {
     "name": "stdout",
     "output_type": "stream",
     "text": [
      "113.33337837 23.208893370000002\n",
      "(962, 4)\n"
     ]
    },
    {
     "data": {
      "text/plain": [
       "(355, 4)"
      ]
     },
     "execution_count": 5,
     "metadata": {},
     "output_type": "execute_result"
    }
   ],
   "source": [
    "minX,minY=113.222425,23.097940\n",
    "#经纬度范围\n",
    "ROW_NUM = 11\n",
    "COL_NUM = 11\n",
    "# 区域的宽度和高度\n",
    "# REGION_WIDTH = 0.010108667\n",
    "# REGION_HEIGHT = 0.0093325\n",
    "REGION_WIDTH = 0.01008667\n",
    "REGION_HEIGHT = 0.01008667\n",
    "maxX,maxY = minX + COL_NUM*REGION_WIDTH, minY + ROW_NUM*REGION_HEIGHT \n",
    "print(maxX,maxY)\n",
    "\n",
    "df = pd.read_table('./Guangzhou.txt',sep=',', header=None, names=['pickup_longitude','pickup_latitude','dropoff_longitude','dropoff_latitude'])\n",
    "print(df.shape)\n",
    "# 获取经纬度范围内的数据\n",
    "df = df[(df['pickup_longitude']>minX) & (df['pickup_longitude']<maxX)]\n",
    "df = df[(df['dropoff_longitude']>minX) & (df['dropoff_longitude']<maxX)]\n",
    "df = df[(df['pickup_latitude']>minY) & (df['pickup_latitude']<maxY)]\n",
    "df = df[(df['dropoff_latitude']>minY) & (df['dropoff_latitude']<maxY)]\n",
    "df.shape"
   ]
  },
  {
   "cell_type": "code",
   "execution_count": 27,
   "metadata": {},
   "outputs": [
    {
     "data": {
      "text/plain": [
       "(193, 4)"
      ]
     },
     "execution_count": 27,
     "metadata": {},
     "output_type": "execute_result"
    }
   ],
   "source": [
    "dist = np.power(df['pickup_longitude'] - df['dropoff_longitude'],2) + np.power(df['pickup_latitude'] - df['dropoff_latitude'],2)\n",
    "df1 = df[dist>0.00040].copy()\n",
    "df1.shape"
   ]
  },
  {
   "cell_type": "code",
   "execution_count": 28,
   "metadata": {},
   "outputs": [
    {
     "data": {
      "text/plain": [
       "38    9\n",
       "49    8\n",
       "30    6\n",
       "43    6\n",
       "41    6\n",
       "     ..\n",
       "32    1\n",
       "34    1\n",
       "55    1\n",
       "63    1\n",
       "87    1\n",
       "Name: pickup_region, Length: 77, dtype: int64"
      ]
     },
     "execution_count": 28,
     "metadata": {},
     "output_type": "execute_result"
    }
   ],
   "source": [
    "pickup_counts,probability_df = computeProbability(df1)\n",
    "df1['pickup_region'].value_counts()"
   ]
  },
  {
   "cell_type": "code",
   "execution_count": 29,
   "metadata": {},
   "outputs": [],
   "source": [
    "for i in range(1,11):\n",
    "    p_df = generateRequests(600)\n",
    "    d_df = generateRequests(300)\n",
    "    p_df.to_csv('F:/yuan/carpooling/Guangzhou/passengers_requests/requests_600_{}.txt'.format(i),sep=' ',header=None,index=False)\n",
    "    d_df.to_csv('F:/yuan/carpooling/Guangzhou/drivers_requests/requests_300_{}.txt'.format(i),sep=' ',header=None,index=False)"
   ]
  },
  {
   "cell_type": "code",
   "execution_count": null,
   "metadata": {},
   "outputs": [],
   "source": []
  }
 ],
 "metadata": {
  "kernelspec": {
   "display_name": "Python 3",
   "language": "python",
   "name": "python3"
  },
  "language_info": {
   "codemirror_mode": {
    "name": "ipython",
    "version": 3
   },
   "file_extension": ".py",
   "mimetype": "text/x-python",
   "name": "python",
   "nbconvert_exporter": "python",
   "pygments_lexer": "ipython3",
   "version": "3.8.3"
  }
 },
 "nbformat": 4,
 "nbformat_minor": 4
}
