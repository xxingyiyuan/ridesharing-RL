{
 "cells": [
  {
   "cell_type": "code",
   "execution_count": 1,
   "metadata": {},
   "outputs": [],
   "source": [
    "import pandas as pd"
   ]
  },
  {
   "cell_type": "code",
   "execution_count": 4,
   "metadata": {},
   "outputs": [],
   "source": [
    "drivers_df = pd.read_table('./requests_300_1.txt', sep=' ', header=None, names=[\n",
    "                                   'pickup_longitude', 'pickup_latitude', 'dropoff_longitude', 'dropoff_latitude'])"
   ]
  },
  {
   "cell_type": "code",
   "execution_count": 12,
   "metadata": {},
   "outputs": [],
   "source": [
    "drivers_df = drivers_df.round(5)"
   ]
  },
  {
   "cell_type": "code",
   "execution_count": 50,
   "metadata": {},
   "outputs": [],
   "source": [
    "d_df = drivers_df.loc[:49,:]\n",
    "d_df.to_csv('requests_50_{}.txt'.format(1),sep=' ',header=None,index=False)"
   ]
  },
  {
   "cell_type": "code",
   "execution_count": 6,
   "metadata": {},
   "outputs": [],
   "source": [
    "matching = [[44, 73, 94, 146], [205], [182], [551], [362, 596], [12, 32], [93], [192, 386], [119, 148, 394], [481], [0], [98, 135, 538], [25, 250], [6, 296], [16], [153], [187], [586], [0], [562], [27, 274, 315], [300], [0], [64, 85, 400], [407], [454], [246, 531], [143, 306, 323], [107, 558], [2, 48, 443], [8, 176, 543, 553], [430], [10, 82, 101], [288, 392], [336], [0], [99, 368, 487], [164], [75, 217], [0], [0], [134, 509], [0], [239, 401], [351], [103, 109, 415], [0], [22, 79, 145], [14], [127, 201], [467], [140], [0], [468], [185], [90, 224], [199, 223], [29], [45, 387, 527], [0], [211], [0], [151, 163], [50, 520], [0], [462], [363], [0], [338, 482], [0], [0], [116], [326], [599], [275, 552], [194, 264, 374], [55, 208, 261], [0], [345, 472], [0], [501], [230], [0], [0], [0], [396], [168, 235, 441], [9, 51, 175], [183], [354, 554], [293], [343, 380, 413], [258], [245, 337, 423], [49, 234, 450], [28, 154, 594], [0], [303, 564], [0], [0], [203, 381], [33, 123, 124, 314], [373], [0], [72, 212, 575], [11, 104, 395, 479], [0], [62, 142, 352], [31, 42], [444], [169, 474, 503], [133, 328], [102, 196, 197, 310], [389], [0], [580], [318, 397], [0], [0], [243, 279, 366], [581], [43, 66], [557], [76, 78, 80, 170], [92, 184, 302], [129, 237], [416], [188, 312], [0], [0], [0], [0], [0], [0], [414, 571, 574], [0], [0], [18, 391, 399], [5, 206], [0], [207, 324], [178], [202, 402, 461], [232], [\n",
    "            0], [162, 370], [61], [0], [229, 238], [495], [253], [0], [0], [0], [180, 236, 377], [533], [56], [13, 372], [0], [36, 273, 537], [34], [108, 147, 241], [0], [305], [438], [498], [452], [0], [95], [21, 26, 567], [30, 244, 333], [0], [156], [193, 287], [547, 583], [0], [267, 522], [172, 584], [0], [0], [0], [128], [15, 437], [0], [111, 349], [115], [0], [157], [284, 518], [0], [117, 252, 582], [68, 257, 405], [0], [404, 480], [214, 500], [174, 475], [292, 504], [190], [355, 530, 535], [0], [52, 529], [334, 466], [266], [465], [448], [263, 335, 382], [0], [0], [0], [0], [0], [270, 286, 514], [0], [189, 231], [53], [0], [435], [442], [20, 87, 560], [141, 330], [0], [210], [67, 70, 106], [319, 375], [218, 249], [0], [0], [17], [200], [329], [57, 325, 327], [322], [0], [365, 459, 579], [7, 598], [0], [59], [114], [81, 295], [195], [0], [213, 320, 440], [0], [490], [69, 136, 220], [0], [41, 160, 417], [222, 570], [35, 297, 342], [0], [549], [39, 65], [1], [0], [0], [131, 546, 588], [227, 508], [161, 260], [209, 221, 532], [390], [0], [0], [344], [281], [0], [38], [411, 473, 521], [341], [225, 451], [0], [0], [138, 150, 422], [19], [565], [139], [0], [247, 271], [429, 572], [4, 100], [37, 177], [511], [494], [311, 358], [152], [251], [432, 516], [126, 433], [346], [280], [125], [159, 317], [58, 171, 228], [88, 186, 216], [409, 492, 576], [97], [130, 493], [348, 439], [3], [24, 40], [536]]"
   ]
  },
  {
   "cell_type": "code",
   "execution_count": 35,
   "metadata": {},
   "outputs": [
    {
     "data": {
      "text/plain": [
       "102"
      ]
     },
     "execution_count": 35,
     "metadata": {},
     "output_type": "execute_result"
    }
   ],
   "source": [
    "passIdList = []\n",
    "for i in range(70):\n",
    "    passIdList += matching[i]\n",
    "passIdList = list(set(passIdList))\n",
    "len(passIdList)"
   ]
  },
  {
   "cell_type": "code",
   "execution_count": 41,
   "metadata": {},
   "outputs": [
    {
     "data": {
      "text/plain": [
       "100"
      ]
     },
     "execution_count": 41,
     "metadata": {},
     "output_type": "execute_result"
    }
   ],
   "source": [
    "passIndexList = [id - 1 for id in passIdList]\n",
    "len(passIndexList)"
   ]
  },
  {
   "cell_type": "code",
   "execution_count": 46,
   "metadata": {},
   "outputs": [],
   "source": [
    "passengers_df = pd.read_table('./requests_600_1.txt', sep=' ', header=None, names=[\n",
    "                                      'pickup_longitude', 'pickup_latitude', 'dropoff_longitude', 'dropoff_latitude'])\n",
    "passengers_df = passengers_df.round(5)                                      "
   ]
  },
  {
   "cell_type": "code",
   "execution_count": 48,
   "metadata": {},
   "outputs": [],
   "source": [
    "p_df = passengers_df.loc[passIdList,:]"
   ]
  },
  {
   "cell_type": "code",
   "execution_count": 49,
   "metadata": {},
   "outputs": [],
   "source": [
    "p_df.to_csv('requests_100_{}.txt'.format(1),sep=' ',header=None,index=False)"
   ]
  },
  {
   "cell_type": "code",
   "execution_count": null,
   "metadata": {},
   "outputs": [],
   "source": []
  }
 ],
 "metadata": {
  "interpreter": {
   "hash": "91bd72d428b545083482defe845e577746d8ff0eff26dd24d71906b3fc9ac853"
  },
  "kernelspec": {
   "display_name": "Python 3.7.9 64-bit ('tensorflow': conda)",
   "name": "python3"
  },
  "language_info": {
   "codemirror_mode": {
    "name": "ipython",
    "version": 3
   },
   "file_extension": ".py",
   "mimetype": "text/x-python",
   "name": "python",
   "nbconvert_exporter": "python",
   "pygments_lexer": "ipython3",
   "version": "3.7.9"
  },
  "orig_nbformat": 4
 },
 "nbformat": 4,
 "nbformat_minor": 2
}
